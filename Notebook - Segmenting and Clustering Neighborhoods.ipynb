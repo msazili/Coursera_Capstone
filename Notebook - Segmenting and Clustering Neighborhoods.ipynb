{
    "cells": [
        {
            "cell_type": "markdown",
            "metadata": {},
            "source": "## Notebook - Segmenting and Clustering Neighborhoods in Toronto\nThis is assignment of Applied Data Science Capstone - Week 3"
        },
        {
            "cell_type": "markdown",
            "metadata": {},
            "source": "<b>Import Python libraries</b>"
        },
        {
            "cell_type": "code",
            "execution_count": 46,
            "metadata": {},
            "outputs": [
                {
                    "name": "stdout",
                    "output_type": "stream",
                    "text": "Python libraries loaded..\n"
                }
            ],
            "source": "# Import python libraries\nimport numpy as np # library for vectorized computation\nimport pandas as pd # library to process data as dataframes\n\n#!pip install geocoder\n#import geocoder # import geocoder\n\nprint(\"Python libraries loaded..\")"
        },
        {
            "cell_type": "markdown",
            "metadata": {},
            "source": "<b>Populate Neighbourhood Dataframe from Wikipedia</b>"
        },
        {
            "cell_type": "code",
            "execution_count": 47,
            "metadata": {},
            "outputs": [
                {
                    "data": {
                        "text/html": "<div>\n<style scoped>\n    .dataframe tbody tr th:only-of-type {\n        vertical-align: middle;\n    }\n\n    .dataframe tbody tr th {\n        vertical-align: top;\n    }\n\n    .dataframe thead th {\n        text-align: right;\n    }\n</style>\n<table border=\"1\" class=\"dataframe\">\n  <thead>\n    <tr style=\"text-align: right;\">\n      <th></th>\n      <th>Postal Code</th>\n      <th>Borough</th>\n      <th>Neighbourhood</th>\n    </tr>\n  </thead>\n  <tbody>\n    <tr>\n      <th>0</th>\n      <td>M1A</td>\n      <td>Not assigned</td>\n      <td>Not assigned</td>\n    </tr>\n    <tr>\n      <th>1</th>\n      <td>M2A</td>\n      <td>Not assigned</td>\n      <td>Not assigned</td>\n    </tr>\n    <tr>\n      <th>2</th>\n      <td>M3A</td>\n      <td>North York</td>\n      <td>Parkwoods</td>\n    </tr>\n    <tr>\n      <th>3</th>\n      <td>M4A</td>\n      <td>North York</td>\n      <td>Victoria Village</td>\n    </tr>\n    <tr>\n      <th>4</th>\n      <td>M5A</td>\n      <td>Downtown Toronto</td>\n      <td>Regent Park, Harbourfront</td>\n    </tr>\n  </tbody>\n</table>\n</div>",
                        "text/plain": "  Postal Code           Borough              Neighbourhood\n0         M1A      Not assigned               Not assigned\n1         M2A      Not assigned               Not assigned\n2         M3A        North York                  Parkwoods\n3         M4A        North York           Victoria Village\n4         M5A  Downtown Toronto  Regent Park, Harbourfront"
                    },
                    "execution_count": 47,
                    "metadata": {},
                    "output_type": "execute_result"
                }
            ],
            "source": "# initialize list of lists \ndata = [['M1A','Not assigned','Not assigned'],\n['M2A','Not assigned','Not assigned'],\n['M3A','North York','Parkwoods'],\n['M4A','North York','Victoria Village'],\n['M5A','Downtown Toronto','Regent Park, Harbourfront'],\n['M6A','North York','Lawrence Manor, Lawrence Heights'],\n['M7A','Downtown Toronto','Queen\\'s Park, Ontario Provincial Government'],\n['M8A','Not assigned','Not assigned'],\n['M9A','Etobicoke','Islington Avenue, Humber Valley Village'],\n['M1B','Scarborough','Malvern, Rouge'],\n['M2B','Not assigned','Not assigned'],\n['M3B','North York','Don Mills'],\n['M4B','East York','Parkview Hill, Woodbine Gardens'],\n['M5B','Downtown Toronto','Garden District, Ryerson'],\n['M6B','North York','Glencairn'],\n['M7B','Not assigned','Not assigned'],\n['M8B','Not assigned','Not assigned'],\n['M9B','Etobicoke','West Deane Park, Princess Gardens, Martin Grove, Islington, Cloverdale'],\n['M1C','Scarborough','Rouge Hill, Port Union, Highland Creek'],\n['M2C','Not assigned','Not assigned'],\n['M3C','North York','Don Mills'],\n['M4C','East York','Woodbine Heights'],\n['M5C','Downtown Toronto','St. James Town'],\n['M6C','York','Humewood-Cedarvale'],\n['M7C','Not assigned','Not assigned'],\n['M8C','Not assigned','Not assigned'],\n['M9C','Etobicoke','Eringate, Bloordale Gardens, Old Burnhamthorpe, Markland Wood'],\n['M1E','Scarborough','Guildwood, Morningside, West Hill'],\n['M2E','Not assigned','Not assigned'],\n['M3E','Not assigned','Not assigned'],\n['M4E','East Toronto','The Beaches'],\n['M5E','Downtown Toronto','Berczy Park'],\n['M6E','York','Caledonia-Fairbanks'],\n['M7E','Not assigned','Not assigned'],\n['M8E','Not assigned','Not assigned'],\n['M9E','Not assigned','Not assigned'],\n['M1G','Scarborough','Woburn'],\n['M2G','Not assigned','Not assigned'],\n['M3G','Not assigned','Not assigned'],\n['M4G','East York','Leaside'],\n['M5G','Downtown Toronto','Central Bay Street'],\n['M6G','Downtown Toronto','Christie'],\n['M7G','Not assigned','Not assigned'],\n['M8G','Not assigned','Not assigned'],\n['M9G','Not assigned','Not assigned'],\n['M1H','Scarborough','Cedarbrae'],\n['M2H','North York','Hillcrest Village'],\n['M3H','North York','Bathurst Manor, Wilson Heights, Downsview North'],\n['M4H','East York','Thorncliffe Park'],\n['M5H','Downtown Toronto','Richmond, Adelaide, King'],\n['M6H','West Toronto','Dufferin, Dovercourt Village'],\n['M7H','Not assigned','Not assigned'],\n['M8H','Not assigned','Not assigned'],\n['M9H','Not assigned','Not assigned'],\n['M1J','Scarborough','Scarborough Village'],\n['M2J','North York','Fairview, Henry Farm, Oriole'],\n['M3J','North York','Northwood Park, York University'],\n['M4J','East York','East Toronto, Broadview North (Old East York)'],\n['M5J','Downtown Toronto','Harbourfront East, Union Station, Toronto Islands'],\n['M6J','West Toronto','Little Portugal, Trinity'],\n['M7J','Not assigned','Not assigned'],\n['M8J','Not assigned','Not assigned'],\n['M9J','Not assigned','Not assigned'],\n['M1K','Scarborough','Kennedy Park, Ionview, East Birchmount Park'],\n['M2K','North York','Bayview Village'],\n['M3K','North York','Downsview'],\n['M4K','East Toronto','The Danforth West, Riverdale'],\n['M5K','Downtown Toronto','Toronto Dominion Centre, Design Exchange'],\n['M6K','West Toronto','Brockton, Parkdale Village, Exhibition Place'],\n['M7K','Not assigned','Not assigned'],\n['M8K','Not assigned','Not assigned'],\n['M9K','Not assigned','Not assigned'],\n['M1L','Scarborough','Golden Mile, Clairlea, Oakridge'],\n['M2L','North York','York Mills, Silver Hills'],\n['M3L','North York','Downsview'],\n['M4L','East Toronto','India Bazaar, The Beaches West'],\n['M5L','Downtown Toronto','Commerce Court, Victoria Hotel'],\n['M6L','North York','North Park, Maple Leaf Park, Upwood Park'],\n['M7L','Not assigned','Not assigned'],\n['M8L','Not assigned','Not assigned'],\n['M9L','North York','Humber Summit'],\n['M1M','Scarborough','Cliffside, Cliffcrest, Scarborough Village West'],\n['M2M','North York','Willowdale, Newtonbrook'],\n['M3M','North York','Downsview'],\n['M4M','East Toronto','Studio District'],\n['M5M','North York','Bedford Park, Lawrence Manor East'],\n['M6M','York','Del Ray, Mount Dennis, Keelsdale and Silverthorn'],\n['M7M','Not assigned','Not assigned'],\n['M8M','Not assigned','Not assigned'],\n['M9M','North York','Humberlea, Emery'],\n['M1N','Scarborough','Birch Cliff, Cliffside West'],\n['M2N','North York','Willowdale, Willowdale East'],\n['M3N','North York','Downsview'],\n['M4N','Central Toronto','Lawrence Park'],\n['M5N','Central Toronto','Roselawn'],\n['M6N','York','Runnymede, The Junction North'],\n['M7N','Not assigned','Not assigned'],\n['M8N','Not assigned','Not assigned'],\n['M9N','York','Weston'],\n['M1P','Scarborough','Dorset Park, Wexford Heights, Scarborough Town Centre'],\n['M2P','North York','York Mills West'],\n['M3P','Not assigned','Not assigned'],\n['M4P','Central Toronto','Davisville North'],\n['M5P','Central Toronto','Forest Hill North & West, Forest Hill Road Park'],\n['M6P','West Toronto','High Park, The Junction South'],\n['M7P','Not assigned','Not assigned'],\n['M8P','Not assigned','Not assigned'],\n['M9P','Etobicoke','Westmount'],\n['M1R','Scarborough','Wexford, Maryvale'],\n['M2R','North York','Willowdale, Willowdale West'],\n['M3R','Not assigned','Not assigned'],\n['M4R','Central Toronto','North Toronto West, Lawrence Park'],\n['M5R','Central Toronto','The Annex, North Midtown, Yorkville'],\n['M6R','West Toronto','Parkdale, Roncesvalles'],\n['M7R','Mississauga','Canada Post Gateway Processing Centre'],\n['M8R','Not assigned','Not assigned'],\n['M9R','Etobicoke','Kingsview Village, St. Phillips, Martin Grove Gardens, Richview Gardens'],\n['M1S','Scarborough','Agincourt'],\n['M2S','Not assigned','Not assigned'],\n['M3S','Not assigned','Not assigned'],\n['M4S','Central Toronto','Davisville'],\n['M5S','Downtown Toronto','University of Toronto, Harbord'],\n['M6S','West Toronto','Runnymede, Swansea'],\n['M7S','Not assigned','Not assigned'],\n['M8S','Not assigned','Not assigned'],\n['M9S','Not assigned','Not assigned'],\n['M1T','Scarborough','Clarks Corners, Tam O\\'Shanter, Sullivan'],\n['M2T','Not assigned','Not assigned'],\n['M3T','Not assigned','Not assigned'],\n['M4T','Central Toronto','Moore Park, Summerhill East'],\n['M5T','Downtown Toronto','Kensington Market, Chinatown, Grange Park'],\n['M6T','Not assigned','Not assigned'],\n['M7T','Not assigned','Not assigned'],\n['M8T','Not assigned','Not assigned'],\n['M9T','Not assigned','Not assigned'],\n['M1V','Scarborough','Milliken, Agincourt North, Steeles East, L\\'Amoreaux East'],\n['M2V','Not assigned','Not assigned'],\n['M3V','Not assigned','Not assigned'],\n['M4V','Central Toronto','Summerhill West, Rathnelly, South Hill, Forest Hill SE, Deer Park'],\n['M5V','Downtown Toronto','CN Tower, King and Spadina, Railway Lands, Harbourfront West, Bathurst Quay, South Niagara, Island airport'],\n['M6V','Not assigned','Not assigned'],\n['M7V','Not assigned','Not assigned'],\n['M8V','Etobicoke','New Toronto, Mimico South, Humber Bay Shores'],\n['M9V','Etobicoke','South Steeles, Silverstone, Humbergate, Jamestown, Mount Olive, Beaumond Heights, Thistletown, Albion Gardens'],\n['M1W','Scarborough','Steeles West, L\\'Amoreaux West'],\n['M2W','Not assigned','Not assigned'],\n['M3W','Not assigned','Not assigned'],\n['M4W','Downtown Toronto','Rosedale'],\n['M5W','Downtown Toronto','Stn A PO Boxes'],\n['M6W','Not assigned','Not assigned'],\n['M7W','Not assigned','Not assigned'],\n['M8W','Etobicoke','Alderwood, Long Branch'],\n['M9W','Etobicoke','Northwest, West Humber - Clairville'],\n['M1X','Scarborough','Upper Rouge'],\n['M2X','Not assigned','Not assigned'],\n['M3X','Not assigned','Not assigned'],\n['M4X','Downtown Toronto','St. James Town, Cabbagetown'],\n['M5X','Downtown Toronto','First Canadian Place, Underground city'],\n['M6X','Not assigned','Not assigned'],\n['M7X','Not assigned','Not assigned'],\n['M8X','Etobicoke','The Kingsway, Montgomery Road, Old Mill North'],\n['M9X','Not assigned','Not assigned'],\n['M1Y','Not assigned','Not assigned'],\n['M2Y','Not assigned','Not assigned'],\n['M3Y','Not assigned','Not assigned'],\n['M4Y','Downtown Toronto','Church and Wellesley'],\n['M5Y','Not assigned','Not assigned'],\n['M6Y','Not assigned','Not assigned'],\n['M7Y','East Toronto','Business reply mail Processing Centre, South Central Letter Processing Plant Toronto'],\n['M8Y','Etobicoke','Old Mill South, King\\'s Mill Park, Sunnylea, Humber Bay, Mimico NE, The Queensway East, Royal York South East, Kingsway Park South East'],\n['M9Y','Not assigned','Not assigned'],\n['M1Z','Not assigned','Not assigned'],\n['M2Z','Not assigned','Not assigned'],\n['M3Z','Not assigned','Not assigned'],\n['M4Z','Not assigned','Not assigned'],\n['M5Z','Not assigned','Not assigned'],\n['M6Z','Not assigned','Not assigned'],\n['M7Z','Not assigned','Not assigned'],\n['M8Z','Etobicoke','Mimico NW, The Queensway West, South of Bloor, Kingsway Park South West, Royal York South West'],\n['M9Z','Not assigned','Not assigned'],\n] \n\n# Create the pandas DataFrame \ndf = pd.DataFrame(data, columns = ['Postal Code','Borough','Neighbourhood']) \n\ndf.head()"
        },
        {
            "cell_type": "markdown",
            "metadata": {},
            "source": "<b>Remove \"Not assigned\" neighbourhood</b>"
        },
        {
            "cell_type": "code",
            "execution_count": 48,
            "metadata": {},
            "outputs": [
                {
                    "data": {
                        "text/html": "<div>\n<style scoped>\n    .dataframe tbody tr th:only-of-type {\n        vertical-align: middle;\n    }\n\n    .dataframe tbody tr th {\n        vertical-align: top;\n    }\n\n    .dataframe thead th {\n        text-align: right;\n    }\n</style>\n<table border=\"1\" class=\"dataframe\">\n  <thead>\n    <tr style=\"text-align: right;\">\n      <th></th>\n      <th>Postal Code</th>\n      <th>Borough</th>\n      <th>Neighbourhood</th>\n    </tr>\n  </thead>\n  <tbody>\n    <tr>\n      <th>2</th>\n      <td>M3A</td>\n      <td>North York</td>\n      <td>Parkwoods</td>\n    </tr>\n    <tr>\n      <th>3</th>\n      <td>M4A</td>\n      <td>North York</td>\n      <td>Victoria Village</td>\n    </tr>\n    <tr>\n      <th>4</th>\n      <td>M5A</td>\n      <td>Downtown Toronto</td>\n      <td>Regent Park, Harbourfront</td>\n    </tr>\n    <tr>\n      <th>5</th>\n      <td>M6A</td>\n      <td>North York</td>\n      <td>Lawrence Manor, Lawrence Heights</td>\n    </tr>\n    <tr>\n      <th>6</th>\n      <td>M7A</td>\n      <td>Downtown Toronto</td>\n      <td>Queen's Park, Ontario Provincial Government</td>\n    </tr>\n  </tbody>\n</table>\n</div>",
                        "text/plain": "  Postal Code           Borough                                Neighbourhood\n2         M3A        North York                                    Parkwoods\n3         M4A        North York                             Victoria Village\n4         M5A  Downtown Toronto                    Regent Park, Harbourfront\n5         M6A        North York             Lawrence Manor, Lawrence Heights\n6         M7A  Downtown Toronto  Queen's Park, Ontario Provincial Government"
                    },
                    "execution_count": 48,
                    "metadata": {},
                    "output_type": "execute_result"
                }
            ],
            "source": "# Remove \"Not assigned\"\ndf.drop(df[df['Neighbourhood'] == 'Not assigned'].index, inplace=True)\n\ndf.head()"
        },
        {
            "cell_type": "markdown",
            "metadata": {},
            "source": "<b>Dataframe component</b>"
        },
        {
            "cell_type": "code",
            "execution_count": 49,
            "metadata": {},
            "outputs": [
                {
                    "name": "stdout",
                    "output_type": "stream",
                    "text": "The dataframe has 10 boroughs and 103 neighborhoods.\n"
                }
            ],
            "source": "print('The dataframe has {} boroughs and {} neighborhoods.'.format(\n        len(df['Borough'].unique()),\n        df.shape[0]\n    )\n)"
        },
        {
            "cell_type": "code",
            "execution_count": null,
            "metadata": {},
            "outputs": [],
            "source": "<b>Populate Latitude Longitude Dataframe</b>"
        },
        {
            "cell_type": "code",
            "execution_count": 50,
            "metadata": {},
            "outputs": [
                {
                    "data": {
                        "text/html": "<div>\n<style scoped>\n    .dataframe tbody tr th:only-of-type {\n        vertical-align: middle;\n    }\n\n    .dataframe tbody tr th {\n        vertical-align: top;\n    }\n\n    .dataframe thead th {\n        text-align: right;\n    }\n</style>\n<table border=\"1\" class=\"dataframe\">\n  <thead>\n    <tr style=\"text-align: right;\">\n      <th></th>\n      <th>Postal Code</th>\n      <th>Latitude</th>\n      <th>Longitude</th>\n    </tr>\n  </thead>\n  <tbody>\n    <tr>\n      <th>0</th>\n      <td>M1B</td>\n      <td>43.8066863</td>\n      <td>-79.1943534</td>\n    </tr>\n    <tr>\n      <th>1</th>\n      <td>M1C</td>\n      <td>43.7845351</td>\n      <td>-79.1604971</td>\n    </tr>\n    <tr>\n      <th>2</th>\n      <td>M1E</td>\n      <td>43.7635726</td>\n      <td>-79.1887115</td>\n    </tr>\n    <tr>\n      <th>3</th>\n      <td>M1G</td>\n      <td>43.7709921</td>\n      <td>-79.2169174</td>\n    </tr>\n    <tr>\n      <th>4</th>\n      <td>M1H</td>\n      <td>43.773136</td>\n      <td>-79.2394761</td>\n    </tr>\n  </tbody>\n</table>\n</div>",
                        "text/plain": "  Postal Code    Latitude    Longitude\n0         M1B  43.8066863  -79.1943534\n1         M1C  43.7845351  -79.1604971\n2         M1E  43.7635726  -79.1887115\n3         M1G  43.7709921  -79.2169174\n4         M1H   43.773136  -79.2394761"
                    },
                    "execution_count": 50,
                    "metadata": {},
                    "output_type": "execute_result"
                }
            ],
            "source": "data_latlng = [\n['M1B','43.8066863','-79.1943534'],\n['M1C','43.7845351','-79.1604971'],\n['M1E','43.7635726','-79.1887115'],\n['M1G','43.7709921','-79.2169174'],\n['M1H','43.773136','-79.2394761'],\n['M1J','43.7447342','-79.2394761'],\n['M1K','43.7279292','-79.2620294'],\n['M1L','43.7111117','-79.2845772'],\n['M1M','43.716316','-79.2394761'],\n['M1N','43.692657','-79.2648481'],\n['M1P','43.7574096','-79.273304'],\n['M1R','43.7500715','-79.2958491'],\n['M1S','43.7942003','-79.2620294'],\n['M1T','43.7816375','-79.3043021'],\n['M1V','43.8152522','-79.2845772'],\n['M1W','43.7995252','-79.3183887'],\n['M1X','43.8361247','-79.2056361'],\n['M2H','43.8037622','-79.3634517'],\n['M2J','43.7785175','-79.3465557'],\n['M2K','43.7869473','-79.385975'],\n['M2L','43.7574902','-79.3747141'],\n['M2M','43.789053','-79.4084928'],\n['M2N','43.7701199','-79.4084928'],\n['M2P','43.7527583','-79.4000493'],\n['M2R','43.7827364','-79.4422593'],\n['M3A','43.7532586','-79.3296565'],\n['M3B','43.7459058','-79.352188'],\n['M3C','43.7258997','-79.340923'],\n['M3H','43.7543283','-79.4422593'],\n['M3J','43.7679803','-79.4872619'],\n['M3K','43.7374732','-79.4647633'],\n['M3L','43.7390146','-79.5069436'],\n['M3M','43.7284964','-79.4956974'],\n['M3N','43.7616313','-79.5209994'],\n['M4A','43.7258823','-79.3155716'],\n['M4B','43.7063972','-79.309937'],\n['M4C','43.6953439','-79.3183887'],\n['M4E','43.6763574','-79.2930312'],\n['M4G','43.7090604','-79.3634517'],\n['M4H','43.7053689','-79.3493719'],\n['M4J','43.685347','-79.3381065'],\n['M4K','43.6795571','-79.352188'],\n['M4L','43.6689985','-79.3155716'],\n['M4M','43.6595255','-79.340923'],\n['M4N','43.7280205','-79.3887901'],\n['M4P','43.7127511','-79.3901975'],\n['M4R','43.7153834','-79.4056784'],\n['M4S','43.7043244','-79.3887901'],\n['M4T','43.6895743','-79.3831599'],\n['M4V','43.6864123','-79.4000493'],\n['M4W','43.6795626','-79.3775294'],\n['M4X','43.667967','-79.3676753'],\n['M4Y','43.6658599','-79.3831599'],\n['M5A','43.6542599','-79.3606359'],\n['M5B','43.6571618','-79.3789371'],\n['M5C','43.6514939','-79.3754179'],\n['M5E','43.6447708','-79.3733064'],\n['M5G','43.6579524','-79.3873826'],\n['M5H','43.6505712','-79.3845675'],\n['M5J','43.6408157','-79.3817523'],\n['M5K','43.6471768','-79.3815764'],\n['M5L','43.6481985','-79.3798169'],\n['M5M','43.7332825','-79.4197497'],\n['M5N','43.7116948','-79.4169356'],\n['M5P','43.6969476','-79.4113072'],\n['M5R','43.6727097','-79.4056784'],\n['M5S','43.6626956','-79.4000493'],\n['M5T','43.6532057','-79.4000493'],\n['M5V','43.6289467','-79.3944199'],\n['M5W','43.6464352','-79.374846'],\n['M5X','43.6484292','-79.3822802'],\n['M6A','43.718518','-79.4647633'],\n['M6B','43.709577','-79.4450726'],\n['M6C','43.6937813','-79.4281914'],\n['M6E','43.6890256','-79.453512'],\n['M6G','43.669542','-79.4225637'],\n['M6H','43.6690051','-79.4422593'],\n['M6J','43.6479267','-79.4197497'],\n['M6K','43.6368472','-79.4281914'],\n['M6L','43.7137562','-79.4900738'],\n['M6M','43.6911158','-79.4760133'],\n['M6N','43.6731853','-79.4872619'],\n['M6P','43.6616083','-79.4647633'],\n['M6R','43.6489597','-79.456325'],\n['M6S','43.6515706','-79.4844499'],\n['M7A','43.6623015','-79.3894938'],\n['M7R','43.6369656','-79.615819'],\n['M7Y','43.6627439','-79.321558'],\n['M8V','43.6056466','-79.5013207'],\n['M8W','43.6024137','-79.5434841'],\n['M8X','43.6536536','-79.5069436'],\n['M8Y','43.6362579','-79.4985091'],\n['M8Z','43.6288408','-79.5209994'],\n['M9A','43.6678556','-79.5322424'],\n['M9B','43.6509432','-79.5547244'],\n['M9C','43.6435152','-79.5772008'],\n['M9L','43.7563033','-79.5659633'],\n['M9M','43.7247659','-79.5322424'],\n['M9N','43.706876','-79.5181884'],\n['M9P','43.696319','-79.5322424'],\n['M9R','43.6889054','-79.5547244'],\n['M9V','43.7394164','-79.5884369'],\n['M9W','43.7067483','-79.5940544']\n] \n\n# Create the pandas DataFrame \ndf_latlng = pd.DataFrame(data_latlng, columns = ['Postal Code','Latitude','Longitude']) \n\ndf_latlng.head()"
        },
        {
            "cell_type": "markdown",
            "metadata": {},
            "source": "<b>Combine data to get Latitude Longitude</b>"
        },
        {
            "cell_type": "code",
            "execution_count": 51,
            "metadata": {},
            "outputs": [
                {
                    "data": {
                        "text/html": "<div>\n<style scoped>\n    .dataframe tbody tr th:only-of-type {\n        vertical-align: middle;\n    }\n\n    .dataframe tbody tr th {\n        vertical-align: top;\n    }\n\n    .dataframe thead th {\n        text-align: right;\n    }\n</style>\n<table border=\"1\" class=\"dataframe\">\n  <thead>\n    <tr style=\"text-align: right;\">\n      <th></th>\n      <th>Postal Code</th>\n      <th>Borough</th>\n      <th>Neighbourhood</th>\n      <th>Latitude</th>\n      <th>Longitude</th>\n    </tr>\n  </thead>\n  <tbody>\n    <tr>\n      <th>0</th>\n      <td>M3A</td>\n      <td>North York</td>\n      <td>Parkwoods</td>\n      <td>43.7532586</td>\n      <td>-79.3296565</td>\n    </tr>\n    <tr>\n      <th>1</th>\n      <td>M4A</td>\n      <td>North York</td>\n      <td>Victoria Village</td>\n      <td>43.7258823</td>\n      <td>-79.3155716</td>\n    </tr>\n    <tr>\n      <th>2</th>\n      <td>M5A</td>\n      <td>Downtown Toronto</td>\n      <td>Regent Park, Harbourfront</td>\n      <td>43.6542599</td>\n      <td>-79.3606359</td>\n    </tr>\n    <tr>\n      <th>3</th>\n      <td>M6A</td>\n      <td>North York</td>\n      <td>Lawrence Manor, Lawrence Heights</td>\n      <td>43.718518</td>\n      <td>-79.4647633</td>\n    </tr>\n    <tr>\n      <th>4</th>\n      <td>M7A</td>\n      <td>Downtown Toronto</td>\n      <td>Queen's Park, Ontario Provincial Government</td>\n      <td>43.6623015</td>\n      <td>-79.3894938</td>\n    </tr>\n    <tr>\n      <th>...</th>\n      <td>...</td>\n      <td>...</td>\n      <td>...</td>\n      <td>...</td>\n      <td>...</td>\n    </tr>\n    <tr>\n      <th>98</th>\n      <td>M8X</td>\n      <td>Etobicoke</td>\n      <td>The Kingsway, Montgomery Road, Old Mill North</td>\n      <td>43.6536536</td>\n      <td>-79.5069436</td>\n    </tr>\n    <tr>\n      <th>99</th>\n      <td>M4Y</td>\n      <td>Downtown Toronto</td>\n      <td>Church and Wellesley</td>\n      <td>43.6658599</td>\n      <td>-79.3831599</td>\n    </tr>\n    <tr>\n      <th>100</th>\n      <td>M7Y</td>\n      <td>East Toronto</td>\n      <td>Business reply mail Processing Centre, South C...</td>\n      <td>43.6627439</td>\n      <td>-79.321558</td>\n    </tr>\n    <tr>\n      <th>101</th>\n      <td>M8Y</td>\n      <td>Etobicoke</td>\n      <td>Old Mill South, King's Mill Park, Sunnylea, Hu...</td>\n      <td>43.6362579</td>\n      <td>-79.4985091</td>\n    </tr>\n    <tr>\n      <th>102</th>\n      <td>M8Z</td>\n      <td>Etobicoke</td>\n      <td>Mimico NW, The Queensway West, South of Bloor,...</td>\n      <td>43.6288408</td>\n      <td>-79.5209994</td>\n    </tr>\n  </tbody>\n</table>\n<p>103 rows \u00d7 5 columns</p>\n</div>",
                        "text/plain": "    Postal Code           Borough  \\\n0           M3A        North York   \n1           M4A        North York   \n2           M5A  Downtown Toronto   \n3           M6A        North York   \n4           M7A  Downtown Toronto   \n..          ...               ...   \n98          M8X         Etobicoke   \n99          M4Y  Downtown Toronto   \n100         M7Y      East Toronto   \n101         M8Y         Etobicoke   \n102         M8Z         Etobicoke   \n\n                                         Neighbourhood    Latitude  \\\n0                                            Parkwoods  43.7532586   \n1                                     Victoria Village  43.7258823   \n2                            Regent Park, Harbourfront  43.6542599   \n3                     Lawrence Manor, Lawrence Heights   43.718518   \n4          Queen's Park, Ontario Provincial Government  43.6623015   \n..                                                 ...         ...   \n98       The Kingsway, Montgomery Road, Old Mill North  43.6536536   \n99                                Church and Wellesley  43.6658599   \n100  Business reply mail Processing Centre, South C...  43.6627439   \n101  Old Mill South, King's Mill Park, Sunnylea, Hu...  43.6362579   \n102  Mimico NW, The Queensway West, South of Bloor,...  43.6288408   \n\n       Longitude  \n0    -79.3296565  \n1    -79.3155716  \n2    -79.3606359  \n3    -79.4647633  \n4    -79.3894938  \n..           ...  \n98   -79.5069436  \n99   -79.3831599  \n100   -79.321558  \n101  -79.4985091  \n102  -79.5209994  \n\n[103 rows x 5 columns]"
                    },
                    "execution_count": 51,
                    "metadata": {},
                    "output_type": "execute_result"
                }
            ],
            "source": "df_result = pd.merge(left=df, right=df_latlng, left_on='Postal Code', right_on='Postal Code')\n\ndf_result.shape\ndf_result"
        },
        {
            "cell_type": "code",
            "execution_count": null,
            "metadata": {},
            "outputs": [],
            "source": ""
        }
    ],
    "metadata": {
        "kernelspec": {
            "display_name": "Python 3.7",
            "language": "python",
            "name": "python3"
        },
        "language_info": {
            "codemirror_mode": {
                "name": "ipython",
                "version": 3
            },
            "file_extension": ".py",
            "mimetype": "text/x-python",
            "name": "python",
            "nbconvert_exporter": "python",
            "pygments_lexer": "ipython3",
            "version": "3.7.9"
        }
    },
    "nbformat": 4,
    "nbformat_minor": 1
}