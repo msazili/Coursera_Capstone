{
    "cells": [
        {
            "cell_type": "markdown",
            "metadata": {
                "collapsed": true
            },
            "source": "# Analysis HDB Resale Price vs Venues Data in Singapore\n### Applied Data Science Capstone by Sazili Muhammad"
        },
        {
            "cell_type": "markdown",
            "metadata": {},
            "source": "## Table of contents\n* [1. Introduction: Business Problem](#introduction)\n* [2. Data](#data)\n* [3. Methodology](#methodology)\n* [4. Analysis](#analysis)\n* [5. Results and Discussion](#results)\n* [6. Conclusion](#conclusion)\n* [7. References](#references)"
        },
        {
            "cell_type": "markdown",
            "metadata": {},
            "source": "## 1. Introduction <a name=\"introduction\"></a>"
        },
        {
            "cell_type": "markdown",
            "metadata": {},
            "source": "#### 1.1 Background"
        },
        {
            "cell_type": "markdown",
            "metadata": {},
            "source": "Majority of Singapore population are living in the public housing developments in Singapore are publicly governed and developed by the state **Housing and Development Board (HDB)** under a 99-year lease. These flats are located in housing estates, which are self-contained satellite towns with well-maintained schools, supermarkets, malls, community hospitals, clinics, hawker centres (food court) and sports and recreational facilities. Every housing estate includes **MRT stations** and bus stops that link residents to other parts of the city-state.\n\nAs compared to most parts of the world, public housing in Singapore is not ostracised by a wide majority of the population and its government, and acts as a necessary and vital measure to provide immaculate and safe housing surrounded by public amenities at affordable prices, especially during its rapid development and industrialisation in the early years of independence. It is also meant to foster social cohesion between social classes and races of Singapore, and prevent neglected areas or districts and ethnic enclaves from developing. As such, **it is considered a unique part of Singaporean culture and identity**, being commonly associated with the country.\n\nThere are a large variety of flat types and layouts which cater to various housing budgets. HDB flats were built in mind to primarily provide affordable housing for **Singaporeans/Permanent Residents** and their purchase can be financially aided by the **Central Provident Fund (CPF)** in addition to various grants. Due to changing demands, HDB introduced the Design, Build and Sell Scheme to produce up-market public housing developments.\n\nNew public housing flats are strictly only eligible for purchase towards Singaporean citizens. The housing schemes and grants available to finance the purchase of a flat are also only extended to households owned by Singaporeans, while Permanent Residents do not get any housing grants or subsidies from the Singaporean government and could only purchase **resale flats from the secondary market at a market price**. Such policies have helped **Singapore reach a home-ownership rate of 91%, one of the highest in the world**. In 2008, Singapore was lauded by the United Nations Habitat's State of the World's Cities report as the only slum-free city in the world. [\\[1\\]](#references)"
        },
        {
            "cell_type": "markdown",
            "metadata": {},
            "source": "#### 1.2 Problem"
        },
        {
            "cell_type": "markdown",
            "metadata": {},
            "source": "HDB flats surrounded by various amenities such as hawker centers, coffee shop, school, carpark, community centers, shopping center/malls, playground, sport center. Those amenities impact to housing resale price fluctuatives which effect resale prices are not balances among towns in Singapore. Some town are highly popular and mature which makes rising of resale price faster than other town. \n\nThis situation makes house buyer has difficulties to purchase flats. The challenges also facing to business owner to invest which location has profitable and mature. For government and regulation makers will have difficulties to make fair decision and build facilities in certain location."
        },
        {
            "cell_type": "markdown",
            "metadata": {},
            "source": "#### 1.3 Purpose"
        },
        {
            "cell_type": "markdown",
            "metadata": {},
            "source": "This project will try to analyze the housing resale price vs various amenities (venues) in different angle. This project will give better insight to house buyer, business owner, or government/regulator to have better decision to invest and improve in various location across the island."
        },
        {
            "cell_type": "markdown",
            "metadata": {},
            "source": "## 2. Data aquisition and data cleaning <a name=\"data\"></a>"
        },
        {
            "cell_type": "markdown",
            "metadata": {},
            "source": "#### 2.1 Data Sources"
        },
        {
            "cell_type": "markdown",
            "metadata": {},
            "source": "The dataset for this project are captured from: \n1. Data.gov.sg [\\[2\\]](#references). This is Singapore government body which release data for public purpose. \n2. Google Maps to capture latitude and longitude."
        },
        {
            "cell_type": "markdown",
            "metadata": {},
            "source": "#### 2.2 Data cleaning and data selection"
        },
        {
            "cell_type": "markdown",
            "metadata": {},
            "source": "Originally this data is very detail which comprises resale price from all towns in Singapore from Jan-2017 until Oct-2020 which has in detail block number, flat type, and flat floor. Since this project is not purpose into detail flat address but instead only interested on towns. So that, I clean up and summarize the dataset into average of housing resale price across all Singapore towns for year 2020 (since Jan-Oct). \n\nNote that, all the prices is in Singapore dollars (SGD).\n\nThe total Singapore towns are 26 towns, as follows:"
        },
        {
            "cell_type": "code",
            "execution_count": 17,
            "metadata": {},
            "outputs": [
                {
                    "data": {
                        "text/html": "<div>\n<style scoped>\n    .dataframe tbody tr th:only-of-type {\n        vertical-align: middle;\n    }\n\n    .dataframe tbody tr th {\n        vertical-align: top;\n    }\n\n    .dataframe thead th {\n        text-align: right;\n    }\n</style>\n<table border=\"1\" class=\"dataframe\">\n  <thead>\n    <tr style=\"text-align: right;\">\n      <th></th>\n      <th>Town</th>\n      <th>Resale Price</th>\n    </tr>\n  </thead>\n  <tbody>\n    <tr>\n      <th>0</th>\n      <td>ANG MO KIO</td>\n      <td>400148.74</td>\n    </tr>\n    <tr>\n      <th>1</th>\n      <td>BEDOK</td>\n      <td>405873.45</td>\n    </tr>\n    <tr>\n      <th>2</th>\n      <td>BISHAN</td>\n      <td>627302.21</td>\n    </tr>\n    <tr>\n      <th>3</th>\n      <td>BUKIT BATOK</td>\n      <td>397548.97</td>\n    </tr>\n    <tr>\n      <th>4</th>\n      <td>BUKIT MERAH</td>\n      <td>562416.43</td>\n    </tr>\n    <tr>\n      <th>5</th>\n      <td>BUKIT PANJANG</td>\n      <td>432441.11</td>\n    </tr>\n    <tr>\n      <th>6</th>\n      <td>BUKIT TIMAH</td>\n      <td>696836.38</td>\n    </tr>\n    <tr>\n      <th>7</th>\n      <td>CENTRAL AREA</td>\n      <td>585125.84</td>\n    </tr>\n    <tr>\n      <th>8</th>\n      <td>CHOA CHU KANG</td>\n      <td>404028.30</td>\n    </tr>\n    <tr>\n      <th>9</th>\n      <td>CLEMENTI</td>\n      <td>493022.24</td>\n    </tr>\n    <tr>\n      <th>10</th>\n      <td>GEYLANG</td>\n      <td>429776.44</td>\n    </tr>\n    <tr>\n      <th>11</th>\n      <td>HOUGANG</td>\n      <td>449869.59</td>\n    </tr>\n    <tr>\n      <th>12</th>\n      <td>JURONG EAST</td>\n      <td>407133.80</td>\n    </tr>\n    <tr>\n      <th>13</th>\n      <td>JURONG WEST</td>\n      <td>407372.67</td>\n    </tr>\n    <tr>\n      <th>14</th>\n      <td>KALLANG/WHAMPOA</td>\n      <td>475455.08</td>\n    </tr>\n    <tr>\n      <th>15</th>\n      <td>MARINE PARADE</td>\n      <td>480472.48</td>\n    </tr>\n    <tr>\n      <th>16</th>\n      <td>PASIR RIS</td>\n      <td>499348.52</td>\n    </tr>\n    <tr>\n      <th>17</th>\n      <td>PUNGGOL</td>\n      <td>462420.83</td>\n    </tr>\n    <tr>\n      <th>18</th>\n      <td>QUEENSTOWN</td>\n      <td>584474.49</td>\n    </tr>\n    <tr>\n      <th>19</th>\n      <td>SEMBAWANG</td>\n      <td>392777.98</td>\n    </tr>\n    <tr>\n      <th>20</th>\n      <td>SENGKANG</td>\n      <td>450835.38</td>\n    </tr>\n    <tr>\n      <th>21</th>\n      <td>SERANGOON</td>\n      <td>487274.65</td>\n    </tr>\n    <tr>\n      <th>22</th>\n      <td>TAMPINES</td>\n      <td>478879.13</td>\n    </tr>\n    <tr>\n      <th>23</th>\n      <td>TOA PAYOH</td>\n      <td>442313.77</td>\n    </tr>\n    <tr>\n      <th>24</th>\n      <td>WOODLANDS</td>\n      <td>392932.61</td>\n    </tr>\n    <tr>\n      <th>25</th>\n      <td>YISHUN</td>\n      <td>379274.21</td>\n    </tr>\n  </tbody>\n</table>\n</div>",
                        "text/plain": "               Town  Resale Price\n0        ANG MO KIO     400148.74\n1             BEDOK     405873.45\n2            BISHAN     627302.21\n3       BUKIT BATOK     397548.97\n4       BUKIT MERAH     562416.43\n5     BUKIT PANJANG     432441.11\n6       BUKIT TIMAH     696836.38\n7      CENTRAL AREA     585125.84\n8     CHOA CHU KANG     404028.30\n9          CLEMENTI     493022.24\n10          GEYLANG     429776.44\n11          HOUGANG     449869.59\n12      JURONG EAST     407133.80\n13      JURONG WEST     407372.67\n14  KALLANG/WHAMPOA     475455.08\n15    MARINE PARADE     480472.48\n16        PASIR RIS     499348.52\n17          PUNGGOL     462420.83\n18       QUEENSTOWN     584474.49\n19        SEMBAWANG     392777.98\n20         SENGKANG     450835.38\n21        SERANGOON     487274.65\n22         TAMPINES     478879.13\n23        TOA PAYOH     442313.77\n24        WOODLANDS     392932.61\n25           YISHUN     379274.21"
                    },
                    "execution_count": 17,
                    "metadata": {},
                    "output_type": "execute_result"
                }
            ],
            "source": "# Import python libraries\nimport numpy as np # library for vectorized computation\nimport pandas as pd # library to process data as dataframes\n\n# initialize list of lists \ndata_ori = [\n['ANG MO KIO', 400148.74],\n['BEDOK', 405873.45],\n['BISHAN', 627302.21],\n['BUKIT BATOK', 397548.97],\n['BUKIT MERAH', 562416.43],\n['BUKIT PANJANG', 432441.11],\n['BUKIT TIMAH', 696836.38],\n['CENTRAL AREA', 585125.84],\n['CHOA CHU KANG', 404028.3],\n['CLEMENTI', 493022.24],\n['GEYLANG', 429776.44],\n['HOUGANG', 449869.59],\n['JURONG EAST', 407133.8],\n['JURONG WEST', 407372.67],\n['KALLANG/WHAMPOA', 475455.08],\n['MARINE PARADE', 480472.48],\n['PASIR RIS', 499348.52],\n['PUNGGOL', 462420.83],\n['QUEENSTOWN', 584474.49],\n['SEMBAWANG', 392777.98],\n['SENGKANG', 450835.38],\n['SERANGOON', 487274.65],\n['TAMPINES', 478879.13],\n['TOA PAYOH', 442313.77],\n['WOODLANDS', 392932.61],\n['YISHUN', 379274.21]\n] \n\n# Create the pandas DataFrame \ndata_ori = pd.DataFrame(data_ori, columns = ['Town','Resale Price']) \n\ndata_ori"
        },
        {
            "cell_type": "markdown",
            "metadata": {},
            "source": "In order to use Foursquare to find venues data, I capture latitude and longitude for each Singapore town from Google Maps, as shown below:"
        },
        {
            "cell_type": "code",
            "execution_count": 18,
            "metadata": {},
            "outputs": [
                {
                    "data": {
                        "text/html": "<div>\n<style scoped>\n    .dataframe tbody tr th:only-of-type {\n        vertical-align: middle;\n    }\n\n    .dataframe tbody tr th {\n        vertical-align: top;\n    }\n\n    .dataframe thead th {\n        text-align: right;\n    }\n</style>\n<table border=\"1\" class=\"dataframe\">\n  <thead>\n    <tr style=\"text-align: right;\">\n      <th></th>\n      <th>Town</th>\n      <th>Latitude</th>\n      <th>Longitude</th>\n    </tr>\n  </thead>\n  <tbody>\n    <tr>\n      <th>0</th>\n      <td>ANG MO KIO</td>\n      <td>1.3691</td>\n      <td>103.8454</td>\n    </tr>\n    <tr>\n      <th>1</th>\n      <td>BEDOK</td>\n      <td>1.3236</td>\n      <td>103.9273</td>\n    </tr>\n    <tr>\n      <th>2</th>\n      <td>BISHAN</td>\n      <td>1.3526</td>\n      <td>103.8352</td>\n    </tr>\n    <tr>\n      <th>3</th>\n      <td>BUKIT BATOK</td>\n      <td>1.3590</td>\n      <td>103.7637</td>\n    </tr>\n    <tr>\n      <th>4</th>\n      <td>BUKIT MERAH</td>\n      <td>1.2819</td>\n      <td>103.8239</td>\n    </tr>\n    <tr>\n      <th>5</th>\n      <td>BUKIT PANJANG</td>\n      <td>1.3774</td>\n      <td>103.7719</td>\n    </tr>\n    <tr>\n      <th>6</th>\n      <td>BUKIT TIMAH</td>\n      <td>1.3294</td>\n      <td>103.8021</td>\n    </tr>\n    <tr>\n      <th>7</th>\n      <td>CENTRAL AREA</td>\n      <td>1.2789</td>\n      <td>103.8536</td>\n    </tr>\n    <tr>\n      <th>8</th>\n      <td>CHOA CHU KANG</td>\n      <td>1.3840</td>\n      <td>103.7470</td>\n    </tr>\n    <tr>\n      <th>9</th>\n      <td>CLEMENTI</td>\n      <td>1.3162</td>\n      <td>103.7649</td>\n    </tr>\n    <tr>\n      <th>10</th>\n      <td>GEYLANG</td>\n      <td>1.3201</td>\n      <td>103.8918</td>\n    </tr>\n    <tr>\n      <th>11</th>\n      <td>HOUGANG</td>\n      <td>1.3612</td>\n      <td>103.8863</td>\n    </tr>\n    <tr>\n      <th>12</th>\n      <td>JURONG EAST</td>\n      <td>1.3329</td>\n      <td>103.7436</td>\n    </tr>\n    <tr>\n      <th>13</th>\n      <td>JURONG WEST</td>\n      <td>1.3404</td>\n      <td>103.7090</td>\n    </tr>\n    <tr>\n      <th>14</th>\n      <td>KALLANG/WHAMPOA</td>\n      <td>1.3245</td>\n      <td>103.8572</td>\n    </tr>\n    <tr>\n      <th>15</th>\n      <td>MARINE PARADE</td>\n      <td>1.3020</td>\n      <td>103.8971</td>\n    </tr>\n    <tr>\n      <th>16</th>\n      <td>PASIR RIS</td>\n      <td>1.3721</td>\n      <td>103.9474</td>\n    </tr>\n    <tr>\n      <th>17</th>\n      <td>PUNGGOL</td>\n      <td>1.3984</td>\n      <td>103.9072</td>\n    </tr>\n    <tr>\n      <th>18</th>\n      <td>QUEENSTOWN</td>\n      <td>1.2942</td>\n      <td>103.7861</td>\n    </tr>\n    <tr>\n      <th>19</th>\n      <td>SEMBAWANG</td>\n      <td>1.4491</td>\n      <td>103.8185</td>\n    </tr>\n    <tr>\n      <th>20</th>\n      <td>SENGKANG</td>\n      <td>1.3868</td>\n      <td>103.8914</td>\n    </tr>\n    <tr>\n      <th>21</th>\n      <td>SERANGOON</td>\n      <td>1.3554</td>\n      <td>103.8679</td>\n    </tr>\n    <tr>\n      <th>22</th>\n      <td>TAMPINES</td>\n      <td>1.3496</td>\n      <td>103.9568</td>\n    </tr>\n    <tr>\n      <th>23</th>\n      <td>TOA PAYOH</td>\n      <td>1.3343</td>\n      <td>103.8563</td>\n    </tr>\n    <tr>\n      <th>24</th>\n      <td>WOODLANDS</td>\n      <td>1.4382</td>\n      <td>103.7890</td>\n    </tr>\n    <tr>\n      <th>25</th>\n      <td>YISHUN</td>\n      <td>1.4304</td>\n      <td>103.8354</td>\n    </tr>\n  </tbody>\n</table>\n</div>",
                        "text/plain": "               Town  Latitude  Longitude\n0        ANG MO KIO    1.3691   103.8454\n1             BEDOK    1.3236   103.9273\n2            BISHAN    1.3526   103.8352\n3       BUKIT BATOK    1.3590   103.7637\n4       BUKIT MERAH    1.2819   103.8239\n5     BUKIT PANJANG    1.3774   103.7719\n6       BUKIT TIMAH    1.3294   103.8021\n7      CENTRAL AREA    1.2789   103.8536\n8     CHOA CHU KANG    1.3840   103.7470\n9          CLEMENTI    1.3162   103.7649\n10          GEYLANG    1.3201   103.8918\n11          HOUGANG    1.3612   103.8863\n12      JURONG EAST    1.3329   103.7436\n13      JURONG WEST    1.3404   103.7090\n14  KALLANG/WHAMPOA    1.3245   103.8572\n15    MARINE PARADE    1.3020   103.8971\n16        PASIR RIS    1.3721   103.9474\n17          PUNGGOL    1.3984   103.9072\n18       QUEENSTOWN    1.2942   103.7861\n19        SEMBAWANG    1.4491   103.8185\n20         SENGKANG    1.3868   103.8914\n21        SERANGOON    1.3554   103.8679\n22         TAMPINES    1.3496   103.9568\n23        TOA PAYOH    1.3343   103.8563\n24        WOODLANDS    1.4382   103.7890\n25           YISHUN    1.4304   103.8354"
                    },
                    "execution_count": 18,
                    "metadata": {},
                    "output_type": "execute_result"
                }
            ],
            "source": "data_latlng = [\n['ANG MO KIO', 1.3691, 103.8454],\n['BEDOK', 1.3236, 103.9273],\n['BISHAN', 1.3526, 103.8352],\n['BUKIT BATOK', 1.359, 103.7637],\n['BUKIT MERAH', 1.2819, 103.8239],\n['BUKIT PANJANG', 1.3774, 103.7719],\n['BUKIT TIMAH', 1.3294, 103.8021],\n['CENTRAL AREA', 1.2789, 103.8536],\n['CHOA CHU KANG', 1.384, 103.747],\n['CLEMENTI', 1.3162, 103.7649],\n['GEYLANG', 1.3201, 103.8918],\n['HOUGANG', 1.3612, 103.8863],\n['JURONG EAST', 1.3329, 103.7436],\n['JURONG WEST', 1.3404, 103.709],\n['KALLANG/WHAMPOA', 1.3245, 103.8572],\n['MARINE PARADE', 1.302, 103.8971],\n['PASIR RIS', 1.3721, 103.9474],\n['PUNGGOL', 1.3984, 103.9072],\n['QUEENSTOWN', 1.2942, 103.7861],\n['SEMBAWANG', 1.4491, 103.8185],\n['SENGKANG', 1.3868, 103.8914],\n['SERANGOON', 1.3554, 103.8679],\n['TAMPINES', 1.3496, 103.9568],\n['TOA PAYOH', 1.3343, 103.8563],\n['WOODLANDS', 1.4382, 103.789],\n['YISHUN', 1.4304, 103.8354]\n] \n\n# Create the pandas DataFrame \ndata_latlng = pd.DataFrame(data_latlng, columns = ['Town','Latitude','Longitude']) \n\ndata_latlng"
        },
        {
            "cell_type": "markdown",
            "metadata": {},
            "source": "Combine original data from Data.gov.sg and Google maps (latitude/longitude), hence getting final dataset as follows:"
        },
        {
            "cell_type": "code",
            "execution_count": 61,
            "metadata": {},
            "outputs": [
                {
                    "data": {
                        "text/html": "<div>\n<style scoped>\n    .dataframe tbody tr th:only-of-type {\n        vertical-align: middle;\n    }\n\n    .dataframe tbody tr th {\n        vertical-align: top;\n    }\n\n    .dataframe thead th {\n        text-align: right;\n    }\n</style>\n<table border=\"1\" class=\"dataframe\">\n  <thead>\n    <tr style=\"text-align: right;\">\n      <th></th>\n      <th>Town</th>\n      <th>Resale Price</th>\n      <th>Latitude</th>\n      <th>Longitude</th>\n    </tr>\n  </thead>\n  <tbody>\n    <tr>\n      <th>0</th>\n      <td>BUKIT TIMAH</td>\n      <td>696836.38</td>\n      <td>1.3294</td>\n      <td>103.8021</td>\n    </tr>\n    <tr>\n      <th>1</th>\n      <td>BISHAN</td>\n      <td>627302.21</td>\n      <td>1.3526</td>\n      <td>103.8352</td>\n    </tr>\n    <tr>\n      <th>2</th>\n      <td>CENTRAL AREA</td>\n      <td>585125.84</td>\n      <td>1.2789</td>\n      <td>103.8536</td>\n    </tr>\n    <tr>\n      <th>3</th>\n      <td>QUEENSTOWN</td>\n      <td>584474.49</td>\n      <td>1.2942</td>\n      <td>103.7861</td>\n    </tr>\n    <tr>\n      <th>4</th>\n      <td>BUKIT MERAH</td>\n      <td>562416.43</td>\n      <td>1.2819</td>\n      <td>103.8239</td>\n    </tr>\n    <tr>\n      <th>5</th>\n      <td>PASIR RIS</td>\n      <td>499348.52</td>\n      <td>1.3721</td>\n      <td>103.9474</td>\n    </tr>\n    <tr>\n      <th>6</th>\n      <td>CLEMENTI</td>\n      <td>493022.24</td>\n      <td>1.3162</td>\n      <td>103.7649</td>\n    </tr>\n    <tr>\n      <th>7</th>\n      <td>SERANGOON</td>\n      <td>487274.65</td>\n      <td>1.3554</td>\n      <td>103.8679</td>\n    </tr>\n    <tr>\n      <th>8</th>\n      <td>MARINE PARADE</td>\n      <td>480472.48</td>\n      <td>1.3020</td>\n      <td>103.8971</td>\n    </tr>\n    <tr>\n      <th>9</th>\n      <td>TAMPINES</td>\n      <td>478879.13</td>\n      <td>1.3496</td>\n      <td>103.9568</td>\n    </tr>\n    <tr>\n      <th>10</th>\n      <td>KALLANG/WHAMPOA</td>\n      <td>475455.08</td>\n      <td>1.3245</td>\n      <td>103.8572</td>\n    </tr>\n    <tr>\n      <th>11</th>\n      <td>PUNGGOL</td>\n      <td>462420.83</td>\n      <td>1.3984</td>\n      <td>103.9072</td>\n    </tr>\n    <tr>\n      <th>12</th>\n      <td>SENGKANG</td>\n      <td>450835.38</td>\n      <td>1.3868</td>\n      <td>103.8914</td>\n    </tr>\n    <tr>\n      <th>13</th>\n      <td>HOUGANG</td>\n      <td>449869.59</td>\n      <td>1.3612</td>\n      <td>103.8863</td>\n    </tr>\n    <tr>\n      <th>14</th>\n      <td>TOA PAYOH</td>\n      <td>442313.77</td>\n      <td>1.3343</td>\n      <td>103.8563</td>\n    </tr>\n    <tr>\n      <th>15</th>\n      <td>BUKIT PANJANG</td>\n      <td>432441.11</td>\n      <td>1.3774</td>\n      <td>103.7719</td>\n    </tr>\n    <tr>\n      <th>16</th>\n      <td>GEYLANG</td>\n      <td>429776.44</td>\n      <td>1.3201</td>\n      <td>103.8918</td>\n    </tr>\n    <tr>\n      <th>17</th>\n      <td>JURONG WEST</td>\n      <td>407372.67</td>\n      <td>1.3404</td>\n      <td>103.7090</td>\n    </tr>\n    <tr>\n      <th>18</th>\n      <td>JURONG EAST</td>\n      <td>407133.80</td>\n      <td>1.3329</td>\n      <td>103.7436</td>\n    </tr>\n    <tr>\n      <th>19</th>\n      <td>BEDOK</td>\n      <td>405873.45</td>\n      <td>1.3236</td>\n      <td>103.9273</td>\n    </tr>\n    <tr>\n      <th>20</th>\n      <td>CHOA CHU KANG</td>\n      <td>404028.30</td>\n      <td>1.3840</td>\n      <td>103.7470</td>\n    </tr>\n    <tr>\n      <th>21</th>\n      <td>ANG MO KIO</td>\n      <td>400148.74</td>\n      <td>1.3691</td>\n      <td>103.8454</td>\n    </tr>\n    <tr>\n      <th>22</th>\n      <td>BUKIT BATOK</td>\n      <td>397548.97</td>\n      <td>1.3590</td>\n      <td>103.7637</td>\n    </tr>\n    <tr>\n      <th>23</th>\n      <td>WOODLANDS</td>\n      <td>392932.61</td>\n      <td>1.4382</td>\n      <td>103.7890</td>\n    </tr>\n    <tr>\n      <th>24</th>\n      <td>SEMBAWANG</td>\n      <td>392777.98</td>\n      <td>1.4491</td>\n      <td>103.8185</td>\n    </tr>\n    <tr>\n      <th>25</th>\n      <td>YISHUN</td>\n      <td>379274.21</td>\n      <td>1.4304</td>\n      <td>103.8354</td>\n    </tr>\n  </tbody>\n</table>\n</div>",
                        "text/plain": "               Town  Resale Price  Latitude  Longitude\n0       BUKIT TIMAH     696836.38    1.3294   103.8021\n1            BISHAN     627302.21    1.3526   103.8352\n2      CENTRAL AREA     585125.84    1.2789   103.8536\n3        QUEENSTOWN     584474.49    1.2942   103.7861\n4       BUKIT MERAH     562416.43    1.2819   103.8239\n5         PASIR RIS     499348.52    1.3721   103.9474\n6          CLEMENTI     493022.24    1.3162   103.7649\n7         SERANGOON     487274.65    1.3554   103.8679\n8     MARINE PARADE     480472.48    1.3020   103.8971\n9          TAMPINES     478879.13    1.3496   103.9568\n10  KALLANG/WHAMPOA     475455.08    1.3245   103.8572\n11          PUNGGOL     462420.83    1.3984   103.9072\n12         SENGKANG     450835.38    1.3868   103.8914\n13          HOUGANG     449869.59    1.3612   103.8863\n14        TOA PAYOH     442313.77    1.3343   103.8563\n15    BUKIT PANJANG     432441.11    1.3774   103.7719\n16          GEYLANG     429776.44    1.3201   103.8918\n17      JURONG WEST     407372.67    1.3404   103.7090\n18      JURONG EAST     407133.80    1.3329   103.7436\n19            BEDOK     405873.45    1.3236   103.9273\n20    CHOA CHU KANG     404028.30    1.3840   103.7470\n21       ANG MO KIO     400148.74    1.3691   103.8454\n22      BUKIT BATOK     397548.97    1.3590   103.7637\n23        WOODLANDS     392932.61    1.4382   103.7890\n24        SEMBAWANG     392777.98    1.4491   103.8185\n25           YISHUN     379274.21    1.4304   103.8354"
                    },
                    "execution_count": 61,
                    "metadata": {},
                    "output_type": "execute_result"
                }
            ],
            "source": "data = pd.merge(left=data_ori, right=data_latlng, left_on='Town', right_on='Town').sort_values(by=['Resale Price'], inplace=False, ascending=False)\ndata.reset_index(drop=True, inplace=True)\n\ndata.shape\ndata"
        },
        {
            "cell_type": "markdown",
            "metadata": {},
            "source": "#### Hence, I will use this dataset above for further analysis for this project"
        },
        {
            "cell_type": "markdown",
            "metadata": {},
            "source": "## 3. Methodology <a name=\"methodology\"></a>"
        },
        {
            "cell_type": "code",
            "execution_count": null,
            "metadata": {},
            "outputs": [],
            "source": ""
        },
        {
            "cell_type": "code",
            "execution_count": null,
            "metadata": {},
            "outputs": [],
            "source": ""
        },
        {
            "cell_type": "code",
            "execution_count": null,
            "metadata": {},
            "outputs": [],
            "source": ""
        },
        {
            "cell_type": "markdown",
            "metadata": {},
            "source": "## 4. Analysis <a name=\"analysis\"></a>"
        },
        {
            "cell_type": "code",
            "execution_count": null,
            "metadata": {},
            "outputs": [],
            "source": ""
        },
        {
            "cell_type": "code",
            "execution_count": null,
            "metadata": {},
            "outputs": [],
            "source": ""
        },
        {
            "cell_type": "code",
            "execution_count": null,
            "metadata": {},
            "outputs": [],
            "source": ""
        },
        {
            "cell_type": "markdown",
            "metadata": {},
            "source": "## 5. Results and Discussion <a name=\"results\"></a>"
        },
        {
            "cell_type": "code",
            "execution_count": null,
            "metadata": {},
            "outputs": [],
            "source": ""
        },
        {
            "cell_type": "code",
            "execution_count": null,
            "metadata": {},
            "outputs": [],
            "source": ""
        },
        {
            "cell_type": "code",
            "execution_count": null,
            "metadata": {},
            "outputs": [],
            "source": ""
        },
        {
            "cell_type": "markdown",
            "metadata": {},
            "source": "## 6. Conclusion <a name=\"conclusion\"></a>"
        },
        {
            "cell_type": "code",
            "execution_count": null,
            "metadata": {},
            "outputs": [],
            "source": ""
        },
        {
            "cell_type": "code",
            "execution_count": null,
            "metadata": {},
            "outputs": [],
            "source": ""
        },
        {
            "cell_type": "code",
            "execution_count": null,
            "metadata": {},
            "outputs": [],
            "source": ""
        },
        {
            "cell_type": "markdown",
            "metadata": {},
            "source": "## 7. References <a name=\"references\"></a>"
        },
        {
            "cell_type": "markdown",
            "metadata": {},
            "source": "* [\\[1\\] Public Housing in Singapore](https://en.wikipedia.org/wiki/Public_housing_in_Singapore)\n* [\\[2\\] Resale Flat Prices](https://data.gov.sg/dataset/resale-flat-prices)"
        },
        {
            "cell_type": "code",
            "execution_count": null,
            "metadata": {},
            "outputs": [],
            "source": ""
        }
    ],
    "metadata": {
        "kernelspec": {
            "display_name": "Python 3.7",
            "language": "python",
            "name": "python3"
        },
        "language_info": {
            "codemirror_mode": {
                "name": "ipython",
                "version": 3
            },
            "file_extension": ".py",
            "mimetype": "text/x-python",
            "name": "python",
            "nbconvert_exporter": "python",
            "pygments_lexer": "ipython3",
            "version": "3.7.9"
        }
    },
    "nbformat": 4,
    "nbformat_minor": 1
}